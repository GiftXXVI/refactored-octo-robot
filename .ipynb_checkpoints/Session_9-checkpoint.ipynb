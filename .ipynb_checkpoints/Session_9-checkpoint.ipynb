{
 "cells": [
  {
   "cell_type": "markdown",
   "id": "a582fd97-cf36-44c6-8a8b-2faa1a96e785",
   "metadata": {},
   "source": [
    "# RBAC\n",
    "https://www.tonymarston.net/php-mysql/role-based-access-control.html\n",
    "\n",
    "# Alternative Attack Vectors\n",
    "\n",
    "After you have secured your application, bad actors will go for the weakest link in your system.\n",
    "And that is the user.\n",
    "They will try to gain access to the system or elevate their access to the system using a combination of psychological manipulation and malware.\n",
    "\n",
    "## Attack: Phishing\n",
    "The attacker obtains information by pretending to be someone else.\n",
    "\n",
    "Here's an interactive tutorial on phishing:\n",
    "https://www.hacksplaining.com/exercises/email-spoofing\n",
    "\n",
    "## Social engineering\n",
    "The attacker might know your information or find information on you publicly: https://www.cssia.org/social_engineering/\n",
    "\n",
    "https://www.comptia.org/content/articles/what-is-social-engineering\n",
    "\n"
   ]
  },
  {
   "cell_type": "code",
   "execution_count": null,
   "id": "85546d21-044f-47f9-8bc3-7a1fcb0351f9",
   "metadata": {},
   "outputs": [],
   "source": []
  }
 ],
 "metadata": {
  "kernelspec": {
   "display_name": "Python 3 (ipykernel)",
   "language": "python",
   "name": "python3"
  },
  "language_info": {
   "codemirror_mode": {
    "name": "ipython",
    "version": 3
   },
   "file_extension": ".py",
   "mimetype": "text/x-python",
   "name": "python",
   "nbconvert_exporter": "python",
   "pygments_lexer": "ipython3",
   "version": "3.10.4"
  }
 },
 "nbformat": 4,
 "nbformat_minor": 5
}
